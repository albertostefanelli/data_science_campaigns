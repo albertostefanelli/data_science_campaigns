{
 "cells": [
  {
   "cell_type": "markdown",
   "metadata": {},
   "source": [
    "# Midterm 2\n",
    "\n",
    "This miderm has two parts. In the first part, I want you to analyze how well 538's model performed in the 2022 US House elections. The second part is based on the real-world hiring test that the Analyst Institute used to screen their data analysts. Analyst Institute is a consulting firm that works with progressive and Democratic groups in conducting randomized field experiments. You will be analyzing an experiment the Analyst Institute conducted. \n",
    "\n",
    "Before turning in your work, please re-run all of the code and download as a PDF. **Review this PDF** before uploading to make sure everything is printing properly. Once you are finished, please upload to Canvas. You are responsible for properly uploading and turning in your work before the end of class.\n",
    "\n",
    "This midterm is open book, notes, prior labs, and Internet. You can use any resource (including ChatGPT) except for another live human being.\n",
    "\n",
    "This midterm has four questions (one in Part 1; three in Part 2). Each question is worth 25%. If you cannot quite get the code right, you are strongly encouraged to add comments explaining the approach you were attempting. Let us know what you were trying to do and you may be able to get partial credit.\n",
    "\n",
    "You have the entire 110 minutes of class time to complete this exam. Good luck!"
   ]
  },
  {
   "cell_type": "markdown",
   "metadata": {},
   "source": [
    "## Part 1: 538's Model\n",
    "I am giving you [538's model predictions](https://projects.fivethirtyeight.com/2022-election-forecast/house/) from October 1, 2022. I want you to determine how good 538's model performed in the 2022 US House elections.\n",
    "\n",
    "The data (`538_data.csv`) has three columns in it.\n",
    "\n",
    "| Variable Name      | Description |\n",
    "| ----------- | ----------- |\n",
    "| `district`      | The district (there are 435 districts)       |\n",
    "| `prob_rep_wins`   | A 0-1 probability the Republican wins the election        |\n",
    "| `winner`   | The party of the actual winner        |\n",
    "\n",
    "\n",
    "**Analyze the 538 model. How did it perform?** Your answer should be a mix of both code and interpretation."
   ]
  },
  {
   "cell_type": "code",
   "execution_count": 1,
   "metadata": {},
   "outputs": [
    {
     "data": {
      "text/html": [
       "<div>\n",
       "<style scoped>\n",
       "    .dataframe tbody tr th:only-of-type {\n",
       "        vertical-align: middle;\n",
       "    }\n",
       "\n",
       "    .dataframe tbody tr th {\n",
       "        vertical-align: top;\n",
       "    }\n",
       "\n",
       "    .dataframe thead th {\n",
       "        text-align: right;\n",
       "    }\n",
       "</style>\n",
       "<table border=\"1\" class=\"dataframe\">\n",
       "  <thead>\n",
       "    <tr style=\"text-align: right;\">\n",
       "      <th></th>\n",
       "      <th>district</th>\n",
       "      <th>prob_rep_wins</th>\n",
       "      <th>winner</th>\n",
       "    </tr>\n",
       "  </thead>\n",
       "  <tbody>\n",
       "    <tr>\n",
       "      <th>0</th>\n",
       "      <td>AK-1</td>\n",
       "      <td>0.373125</td>\n",
       "      <td>DEM</td>\n",
       "    </tr>\n",
       "    <tr>\n",
       "      <th>1</th>\n",
       "      <td>AL-1</td>\n",
       "      <td>0.999775</td>\n",
       "      <td>REP</td>\n",
       "    </tr>\n",
       "    <tr>\n",
       "      <th>2</th>\n",
       "      <td>AL-2</td>\n",
       "      <td>0.999975</td>\n",
       "      <td>REP</td>\n",
       "    </tr>\n",
       "    <tr>\n",
       "      <th>3</th>\n",
       "      <td>AL-3</td>\n",
       "      <td>1.000000</td>\n",
       "      <td>REP</td>\n",
       "    </tr>\n",
       "    <tr>\n",
       "      <th>4</th>\n",
       "      <td>AL-4</td>\n",
       "      <td>1.000000</td>\n",
       "      <td>REP</td>\n",
       "    </tr>\n",
       "  </tbody>\n",
       "</table>\n",
       "</div>"
      ],
      "text/plain": [
       "  district  prob_rep_wins winner\n",
       "0     AK-1       0.373125    DEM\n",
       "1     AL-1       0.999775    REP\n",
       "2     AL-2       0.999975    REP\n",
       "3     AL-3       1.000000    REP\n",
       "4     AL-4       1.000000    REP"
      ]
     },
     "execution_count": 1,
     "metadata": {},
     "output_type": "execute_result"
    }
   ],
   "source": [
    "import numpy as np\n",
    "import pandas as pd\n",
    "import matplotlib.pyplot as plt\n",
    "data538 = pd.read_csv(\"538_data.csv\")\n",
    "data538.head()"
   ]
  },
  {
   "cell_type": "markdown",
   "metadata": {},
   "source": [
    "## Part 2: Analyst Institute\n",
    "\n",
    "In 2017, one of their partners was interested in determining the effectiveness of an SMS (text message) persuasion program on likely voters. The campaign hoped their text messages would both persuade voters to support candidate Jane Smith over her opponents, and mobilize voters to cast a ballot in their state’s 2017 general election. Voters were randomly assigned to receive one of three interventions (`sms_treat`):\n",
    "\n",
    "- No contact (Control group, `sms_treat = Control`)\n",
    "- Message reminding them to vote in the upcoming election with no persuasion message (First treatment group, `sms_treat = Treat Reminder Only`)\n",
    "- Message that **both** reminds them to vote in the upcoming election and highlights Smith’s record on environmental issues (Second treatment group, `sms_treat = Treat Reminder + Enviro`)\n",
    "\n",
    "After the SMS program was implemented, Analyst Institute conducted a live phone survey asking voters which candidate they planned to support in the upcoming election. After the election, they consulted publicly-available state voter files to measure whether the targeted voters actually voted on Election Day. **For the purposes of this midterm, do not worry about any missing data or implementing survey weights.**\n",
    "\n",
    "The three main research questions were:\n",
    "\n",
    "1. Was the experiment properly implemented (balance check between treatment and control on the pre-treatment covariates)?\n",
    "2. Did the message program increase voters’ likelihood to vote?\n",
    "3. Did the message program persuade voters to support Jane Smith?\n",
    "\n",
    "To get started, you will need the file `data_ai` for this midterm. Below we load this file and inspect it."
   ]
  },
  {
   "cell_type": "code",
   "execution_count": 2,
   "metadata": {},
   "outputs": [],
   "source": [
    "data_ai = pd.read_csv(\"data_ai.csv\")"
   ]
  },
  {
   "cell_type": "code",
   "execution_count": 3,
   "metadata": {},
   "outputs": [
    {
     "data": {
      "text/html": [
       "<div>\n",
       "<style scoped>\n",
       "    .dataframe tbody tr th:only-of-type {\n",
       "        vertical-align: middle;\n",
       "    }\n",
       "\n",
       "    .dataframe tbody tr th {\n",
       "        vertical-align: top;\n",
       "    }\n",
       "\n",
       "    .dataframe thead th {\n",
       "        text-align: right;\n",
       "    }\n",
       "</style>\n",
       "<table border=\"1\" class=\"dataframe\">\n",
       "  <thead>\n",
       "    <tr style=\"text-align: right;\">\n",
       "      <th></th>\n",
       "      <th>ai_id</th>\n",
       "      <th>race</th>\n",
       "      <th>age</th>\n",
       "      <th>gender</th>\n",
       "      <th>marital_status</th>\n",
       "      <th>turnout2017</th>\n",
       "      <th>support_smith</th>\n",
       "      <th>sms_treat</th>\n",
       "    </tr>\n",
       "  </thead>\n",
       "  <tbody>\n",
       "    <tr>\n",
       "      <th>0</th>\n",
       "      <td>0006d7a86442c7b4c8cdd87d11d17fad</td>\n",
       "      <td>native_american</td>\n",
       "      <td>26</td>\n",
       "      <td>female</td>\n",
       "      <td>married</td>\n",
       "      <td>0</td>\n",
       "      <td>1</td>\n",
       "      <td>Treat Reminder Only</td>\n",
       "    </tr>\n",
       "    <tr>\n",
       "      <th>1</th>\n",
       "      <td>0009338eeebfaa33064627785bb4d0c4</td>\n",
       "      <td>asian</td>\n",
       "      <td>30</td>\n",
       "      <td>male</td>\n",
       "      <td>separated</td>\n",
       "      <td>0</td>\n",
       "      <td>0</td>\n",
       "      <td>Control</td>\n",
       "    </tr>\n",
       "    <tr>\n",
       "      <th>2</th>\n",
       "      <td>00123926ecffb45cb44f84d9c0a791f2</td>\n",
       "      <td>black</td>\n",
       "      <td>39</td>\n",
       "      <td>female</td>\n",
       "      <td>married</td>\n",
       "      <td>1</td>\n",
       "      <td>1</td>\n",
       "      <td>Treat Reminder Only</td>\n",
       "    </tr>\n",
       "    <tr>\n",
       "      <th>3</th>\n",
       "      <td>003b7bb53d80fce06f5a814bddb3e2ed</td>\n",
       "      <td>white</td>\n",
       "      <td>76</td>\n",
       "      <td>female</td>\n",
       "      <td>married</td>\n",
       "      <td>1</td>\n",
       "      <td>0</td>\n",
       "      <td>Treat Reminder Only</td>\n",
       "    </tr>\n",
       "    <tr>\n",
       "      <th>4</th>\n",
       "      <td>0061d7451d39ef6f5aa269fedc7caa6e</td>\n",
       "      <td>hispanic</td>\n",
       "      <td>48</td>\n",
       "      <td>female</td>\n",
       "      <td>married</td>\n",
       "      <td>0</td>\n",
       "      <td>1</td>\n",
       "      <td>Control</td>\n",
       "    </tr>\n",
       "  </tbody>\n",
       "</table>\n",
       "</div>"
      ],
      "text/plain": [
       "                              ai_id             race  age  gender  \\\n",
       "0  0006d7a86442c7b4c8cdd87d11d17fad  native_american   26  female   \n",
       "1  0009338eeebfaa33064627785bb4d0c4            asian   30    male   \n",
       "2  00123926ecffb45cb44f84d9c0a791f2            black   39  female   \n",
       "3  003b7bb53d80fce06f5a814bddb3e2ed            white   76  female   \n",
       "4  0061d7451d39ef6f5aa269fedc7caa6e         hispanic   48  female   \n",
       "\n",
       "  marital_status  turnout2017  support_smith            sms_treat  \n",
       "0        married            0              1  Treat Reminder Only  \n",
       "1      separated            0              0              Control  \n",
       "2        married            1              1  Treat Reminder Only  \n",
       "3        married            1              0  Treat Reminder Only  \n",
       "4        married            0              1              Control  "
      ]
     },
     "execution_count": 3,
     "metadata": {},
     "output_type": "execute_result"
    }
   ],
   "source": [
    "data_ai.head()"
   ]
  },
  {
   "cell_type": "markdown",
   "metadata": {},
   "source": [
    "| Variable Name      | Description |\n",
    "| ----------- | ----------- |\n",
    "| `ai_id`      | A unique identifier for each person      |\n",
    "| `race`   | An individual's race, from the voter file. One of: Asian, Black, Hispanic, Native American, or White        |\n",
    "| `age`   | An individual's age, from the voter file.       |\n",
    "| `gender`   | An individual's age, from the voter file. One of: female or male      |\n",
    "| `marital_status`   | An individual's marital status, from a commercial vendor. One of: married, separated, or unmarried.       |\n",
    "| `turnout2017`   | An individual's turnout in the 2017 general election, from the voter file. One of: 0 (did not vote) or 1 (voted)      |\n",
    "| `support_smith`   | Who an individual supported in the election, from the survey. One of: 0 (not Smith, someone else) or 1 (Smith)     |\n",
    "| `sms_treat`   | Experimental condition, see above for description     |"
   ]
  },
  {
   "cell_type": "markdown",
   "metadata": {},
   "source": [
    "## Part 2, Question 1: Balance Check\n",
    "\n",
    "Does the three experimental conditions look similar to one another? Conduct a balance check on the pre-treatment covariates. A complete answer will provide a table and a few sentences answering the question (interpretation)."
   ]
  },
  {
   "cell_type": "markdown",
   "metadata": {},
   "source": [
    "## Part 2, Question 2: Did the treatments increase voters’ likelihood to vote?\n",
    "\n",
    "Answer the question. A complete answer will provide a numerical answer, a visualization, and a few sentences answering the question (interpretation). You do not need to worry about statistical significance when answering this question."
   ]
  },
  {
   "cell_type": "markdown",
   "metadata": {},
   "source": [
    "## Part 2, Question 3: Did the treatments program persuade voters to support Jane Smith?\n",
    "\n",
    "Answer the question. A complete answer will provide a numerical answer, a visualization, and a few sentences answering the question (interpretation). You do not need to worry about statistical significance when answering this question."
   ]
  }
 ],
 "metadata": {
  "anaconda-cloud": {},
  "kernelspec": {
   "display_name": "Python 3 (ipykernel)",
   "language": "python",
   "name": "python3"
  },
  "language_info": {
   "codemirror_mode": {
    "name": "ipython",
    "version": 3
   },
   "file_extension": ".py",
   "mimetype": "text/x-python",
   "name": "python",
   "nbconvert_exporter": "python",
   "pygments_lexer": "ipython3",
   "version": "3.11.4"
  }
 },
 "nbformat": 4,
 "nbformat_minor": 1
}
