{
 "cells": [
  {
   "cell_type": "markdown",
   "metadata": {},
   "source": [
    "# Midterm 2 - 2021\n",
    "\n",
    "This miderm is based on the hiring test that the Analyst Institute used to screen their data analysts. Analyst Institute is a consulting firm that works with progressive and Democratic groups in conducting randomized field experiments.\n",
    "\n",
    "For this midterm, you will be analyzing an experiment the Analyst Institute conducted. \n",
    "\n",
    "In 2017, one of their partners was interested in determining the effectiveness of an SMS (text message) persuasion program on likely voters. The campaign hoped their text messages would both persuade voters to support candidate Jane Smith over her opponents, and mobilize voters to cast a ballot in their state’s 2017 general election. Voters were randomly assigned to receive one of two interventions:\n",
    "\n",
    "- No contact (Control group)\n",
    "- Message reminding them to vote in the upcoming election, and a message highlighting Smith’s record on environmental issues (Treatment group)\n",
    "\n",
    "After the SMS program was implemented, Analyst Institute conducted a live phone survey asking voters which candidate they planned to support in the upcoming election. After the election, they consulted publicly-available state voter files to measure whether the targeted voters actually voted on Election Day. Note that while the state voter files (and thus, our measure of turnout) include everyone in the treatment universe, we only surveyed a subset of the universe. **For the purposes of this midterm, do not worry about implementing survey weights.**\n",
    "\n",
    "The four main research questions were:\n",
    "\n",
    "1. Was the experiment properly implemented (balance check between treatment and control on the pre-treatment covariates)?\n",
    "2. Did the message program increase voters’ likelihood to vote?\n",
    "3. Did the message program persuade voters to support Jane Smith?\n",
    "4. Did the message program increase how much voters care about protecting the environment on a scale from 1-10?\n",
    "\n",
    "We will need the file `data` for this midterm.\n",
    "\n",
    "Below we load this file and inspect it."
   ]
  },
  {
   "cell_type": "code",
   "execution_count": 1,
   "metadata": {},
   "outputs": [],
   "source": [
    "import numpy as np\n",
    "import pandas as pd\n",
    "import matplotlib.pyplot as plt\n",
    "data = pd.read_csv(\"data.csv\")"
   ]
  },
  {
   "cell_type": "code",
   "execution_count": 2,
   "metadata": {},
   "outputs": [
    {
     "data": {
      "text/html": [
       "<div>\n",
       "<style scoped>\n",
       "    .dataframe tbody tr th:only-of-type {\n",
       "        vertical-align: middle;\n",
       "    }\n",
       "\n",
       "    .dataframe tbody tr th {\n",
       "        vertical-align: top;\n",
       "    }\n",
       "\n",
       "    .dataframe thead th {\n",
       "        text-align: right;\n",
       "    }\n",
       "</style>\n",
       "<table border=\"1\" class=\"dataframe\">\n",
       "  <thead>\n",
       "    <tr style=\"text-align: right;\">\n",
       "      <th></th>\n",
       "      <th>ai_id</th>\n",
       "      <th>race</th>\n",
       "      <th>age</th>\n",
       "      <th>gender</th>\n",
       "      <th>marital_status</th>\n",
       "      <th>sms_treat</th>\n",
       "      <th>turnout2017</th>\n",
       "      <th>support_smith</th>\n",
       "      <th>environment_thermometer</th>\n",
       "    </tr>\n",
       "  </thead>\n",
       "  <tbody>\n",
       "    <tr>\n",
       "      <th>0</th>\n",
       "      <td>f57737fc9c3dabde23271345714dfb6a</td>\n",
       "      <td>black</td>\n",
       "      <td>73</td>\n",
       "      <td>female</td>\n",
       "      <td>separated</td>\n",
       "      <td>Control</td>\n",
       "      <td>1</td>\n",
       "      <td>1</td>\n",
       "      <td>7</td>\n",
       "    </tr>\n",
       "    <tr>\n",
       "      <th>1</th>\n",
       "      <td>974f0de9c5860103c481c7dc5d0b9ea2</td>\n",
       "      <td>black</td>\n",
       "      <td>26</td>\n",
       "      <td>female</td>\n",
       "      <td>married</td>\n",
       "      <td>Control</td>\n",
       "      <td>0</td>\n",
       "      <td>0</td>\n",
       "      <td>5</td>\n",
       "    </tr>\n",
       "    <tr>\n",
       "      <th>2</th>\n",
       "      <td>544ca018f0e8c73061d7e6eb9739ca94</td>\n",
       "      <td>white</td>\n",
       "      <td>36</td>\n",
       "      <td>male</td>\n",
       "      <td>married</td>\n",
       "      <td>Treatment</td>\n",
       "      <td>1</td>\n",
       "      <td>0</td>\n",
       "      <td>10</td>\n",
       "    </tr>\n",
       "    <tr>\n",
       "      <th>3</th>\n",
       "      <td>91f51410c89a3fb11c2bf953dd9686d5</td>\n",
       "      <td>white</td>\n",
       "      <td>39</td>\n",
       "      <td>male</td>\n",
       "      <td>separated</td>\n",
       "      <td>Treatment</td>\n",
       "      <td>1</td>\n",
       "      <td>1</td>\n",
       "      <td>10</td>\n",
       "    </tr>\n",
       "    <tr>\n",
       "      <th>4</th>\n",
       "      <td>f8f08aa57b4b724468aa278fe8637377</td>\n",
       "      <td>black</td>\n",
       "      <td>47</td>\n",
       "      <td>male</td>\n",
       "      <td>separated</td>\n",
       "      <td>Control</td>\n",
       "      <td>0</td>\n",
       "      <td>1</td>\n",
       "      <td>7</td>\n",
       "    </tr>\n",
       "  </tbody>\n",
       "</table>\n",
       "</div>"
      ],
      "text/plain": [
       "                              ai_id   race  age  gender marital_status  \\\n",
       "0  f57737fc9c3dabde23271345714dfb6a  black   73  female      separated   \n",
       "1  974f0de9c5860103c481c7dc5d0b9ea2  black   26  female        married   \n",
       "2  544ca018f0e8c73061d7e6eb9739ca94  white   36    male        married   \n",
       "3  91f51410c89a3fb11c2bf953dd9686d5  white   39    male      separated   \n",
       "4  f8f08aa57b4b724468aa278fe8637377  black   47    male      separated   \n",
       "\n",
       "   sms_treat  turnout2017  support_smith  environment_thermometer  \n",
       "0    Control            1              1                        7  \n",
       "1    Control            0              0                        5  \n",
       "2  Treatment            1              0                       10  \n",
       "3  Treatment            1              1                       10  \n",
       "4    Control            0              1                        7  "
      ]
     },
     "execution_count": 2,
     "metadata": {},
     "output_type": "execute_result"
    }
   ],
   "source": [
    "data.head()"
   ]
  },
  {
   "cell_type": "markdown",
   "metadata": {},
   "source": [
    "## Part 1: Balance Check\n",
    "\n",
    "Does the treatment group look similar to the control group? Conduct a balance check on the pre-treatment covariates."
   ]
  },
  {
   "cell_type": "markdown",
   "metadata": {},
   "source": [
    "## Part 2: Did the message program increase voters’ likelihood to vote?\n",
    "\n",
    "Answer the question. A complete answer will provide a numerical answer, a visualization, and a brief interpretation."
   ]
  },
  {
   "cell_type": "markdown",
   "metadata": {},
   "source": [
    "## Part 3: Did the message program persuade voters to support Jane Smith?\n",
    "\n",
    "Answer the question. A complete answer will provide a numerical answer, a visualization, and a brief interpretation."
   ]
  },
  {
   "cell_type": "markdown",
   "metadata": {},
   "source": [
    "## Part 4: Did the message program increase how much voters care about protecting the environment on a scale from 1-10?\n",
    "\n",
    "Answer the question. A complete answer will provide a numerical answer, a visualization, and a brief interpretation."
   ]
  }
 ],
 "metadata": {
  "anaconda-cloud": {},
  "kernelspec": {
   "display_name": "Python 3",
   "language": "python",
   "name": "python3"
  },
  "language_info": {
   "codemirror_mode": {
    "name": "ipython",
    "version": 3
   },
   "file_extension": ".py",
   "mimetype": "text/x-python",
   "name": "python",
   "nbconvert_exporter": "python",
   "pygments_lexer": "ipython3",
   "version": "3.7.6"
  }
 },
 "nbformat": 4,
 "nbformat_minor": 1
}
