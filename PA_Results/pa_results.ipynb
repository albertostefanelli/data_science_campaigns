{
 "cells": [
  {
   "cell_type": "markdown",
   "metadata": {},
   "source": [
    "# Real-Time Election Analysis!\n",
    "\n",
    "Last night there was an election in Allegheny County, PA. This is the county where Pittsburgh is located. Both your ULA Gianna and I are from Pittsburgh.\n",
    "\n",
    "Stephen A. Zappala Jr. is the long-serving Democratic District Attorney in Allegheny County. He lost the May Democratic primary to Matt Dugan. However, Zappala also won the Republican nomination. This means that Zappala and Dugan are facing off again in the general election.\n",
    "\n",
    "Take a few minutes to read about the race. Here are two summaries for you to get started:\n",
    "- [A guide to the 2023 Allegheny County district attorney election: Matt Dugan vs. Stephen Zappala](https://www.wesa.fm/wesa-voter-guide/2023/allegheny-county-district-attorney-dugan-zappala)\n",
    "- [Allegheny County District Attorney: Matt Dugan vs. Stephen Zappala](https://www.pghcitypaper.com/specials-guides/allegheny-county-district-attorney-matt-dugan-vs-stephen-zappala-24807833)\n",
    "\n",
    "There was also an election for County Chief Executive. This was a race between Democrat Sara Innamorato and Republican Joseph Rockey. You can read about that race here:\n",
    "- [A guide to the 2023 Allegheny County executive election: Sara Innamorato vs. Joe Rockey](https://www.wesa.fm/wesa-voter-guide/2023/allegheny-county-executive-innamorato-rockey)\n",
    "\n",
    "One thing to know about Allegheny County: it is reliably Democratic. Obama won 57% in 2012. Clinton won 56% in 2016. Biden won 59% in 2020. Democratic political consultant James Carville is famous for saying that \"Pennsylvania is Philadelphia and Pittsburgh separated by Alabama.\"\n",
    "\n",
    "I would like you to analyze the election results from last night. Use data to learn something interesting about the election. Make some tables and graphs. Write about what you learn. This is very open-ended.\n",
    "\n",
    "I am sharing precinct-level data with you from the following elections:\n",
    "- Nov 2023 general for district attorney: these are the results from last night.\n",
    "- Nov 2023 general for county chief executive: these are the results from last night.\n",
    "- May 2023 Democratic primary: this was the original match-up between Zappala and Dugan.\n",
    "- Nov 2022 gubernatorial general: this was the Shapiro v. Mastriano election.\n",
    "- Nov 2022 senate general: this was the Fetterman v. Oz election.\n",
    "- Nov 2020 presidential general: this was the Biden v. Trump election."
   ]
  },
  {
   "cell_type": "code",
   "execution_count": null,
   "metadata": {},
   "outputs": [],
   "source": [
    "import numpy as np\n",
    "import pandas as pd\n",
    "import matplotlib.pyplot as plt\n",
    "# Bring in data\n",
    "nov_2020_general_potus = pd.read_csv(\"nov_2020_general_potus.csv\")\n",
    "nov_2022_general_senate = pd.read_csv(\"nov_2022_general_senate.csv\")\n",
    "nov_2022_general_gov = pd.read_csv(\"nov_2022_general_gov.csv\")\n",
    "may_2023_dem_primary_da = pd.read_csv(\"may_2023_dem_primary_da.csv\")\n",
    "nov_2023_general_chief_exec = pd.read_csv(\"nov_2023_general_chief_exec.csv\")\n",
    "nov_2023_general_da = pd.read_csv(\"nov_2023_general_da.csv\")"
   ]
  },
  {
   "cell_type": "code",
   "execution_count": null,
   "metadata": {},
   "outputs": [],
   "source": [
    "# Look at data\n",
    "nov_2020_general_potus.head()"
   ]
  },
  {
   "cell_type": "code",
   "execution_count": null,
   "metadata": {},
   "outputs": [],
   "source": [
    "# Look at data\n",
    "nov_2022_general_senate.head()"
   ]
  },
  {
   "cell_type": "code",
   "execution_count": null,
   "metadata": {},
   "outputs": [],
   "source": [
    "# Look at data\n",
    "nov_2022_general_gov.head()"
   ]
  },
  {
   "cell_type": "code",
   "execution_count": null,
   "metadata": {},
   "outputs": [],
   "source": [
    "# Look at data\n",
    "may_2023_dem_primary_da.head()"
   ]
  },
  {
   "cell_type": "code",
   "execution_count": null,
   "metadata": {},
   "outputs": [],
   "source": [
    "# Look at data\n",
    "nov_2023_general_chief_exec.head()"
   ]
  },
  {
   "cell_type": "code",
   "execution_count": null,
   "metadata": {},
   "outputs": [],
   "source": [
    "# Look at data\n",
    "nov_2023_general_da.head()"
   ]
  },
  {
   "cell_type": "markdown",
   "metadata": {},
   "source": [
    "## Your Analysis\n",
    "Using some or all of the above data, teach us something about the election results!"
   ]
  },
  {
   "cell_type": "markdown",
   "metadata": {},
   "source": [
    "**Please make sure you turn this assignment in as a PDF through Canvas.**"
   ]
  }
 ],
 "metadata": {
  "anaconda-cloud": {},
  "kernelspec": {
   "display_name": "Python 3 (ipykernel)",
   "language": "python",
   "name": "python3"
  },
  "language_info": {
   "codemirror_mode": {
    "name": "ipython",
    "version": 3
   },
   "file_extension": ".py",
   "mimetype": "text/x-python",
   "name": "python",
   "nbconvert_exporter": "python",
   "pygments_lexer": "ipython3",
   "version": "3.11.4"
  }
 },
 "nbformat": 4,
 "nbformat_minor": 1
}
